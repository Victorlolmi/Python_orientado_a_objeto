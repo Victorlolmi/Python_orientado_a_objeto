{
 "cells": [
  {
   "cell_type": "markdown",
   "metadata": {},
   "source": [
    "## Definir uma Classe palavra Chave Class\n",
    "### Sintaxe\n",
    "\n"
   ]
  },
  {
   "cell_type": "code",
   "execution_count": 31,
   "metadata": {},
   "outputs": [],
   "source": [
    "class NomeClasse: #cabecalho da classe\n",
    "    pass #classe sem funcção ainda"
   ]
  },
  {
   "cell_type": "code",
   "execution_count": 32,
   "metadata": {},
   "outputs": [],
   "source": [
    "class Cubo:\n",
    "    '''Docstring:  Classe para calcular o cudo de um numero'''\n",
    "\n",
    "    #Contrutor\n",
    "    def __init__(self, valor):\n",
    "        self.x = valor\n",
    "        print('objeto criado')\n",
    "\n",
    "    def calcula_cubo(self):\n",
    "        cubo = self.x * self.x *self.x\n",
    "        return cubo\n",
    "    "
   ]
  },
  {
   "cell_type": "code",
   "execution_count": 33,
   "metadata": {},
   "outputs": [
    {
     "name": "stdout",
     "output_type": "stream",
     "text": [
      "objeto criado\n",
      "216\n"
     ]
    }
   ],
   "source": [
    "teste = Cubo(6)\n",
    "\n",
    "print(str(teste.calcula_cubo()))"
   ]
  },
  {
   "cell_type": "markdown",
   "metadata": {},
   "source": [
    "## Getter and Setters"
   ]
  },
  {
   "cell_type": "code",
   "execution_count": 34,
   "metadata": {},
   "outputs": [
    {
     "name": "stdout",
     "output_type": "stream",
     "text": [
      "Valor de X 98\n"
     ]
    }
   ],
   "source": [
    "class Teste():\n",
    "    def __init__(self):\n",
    "        self.x = 0\n",
    "\n",
    "    #Metodo getter para retornar o valor do atributo x:\n",
    "    def get_valor(self):\n",
    "        return self.x\n",
    "    def set_valor(self, valor):\n",
    "        self.x = valor\n",
    "\n",
    "    def preencher(self):\n",
    "\n",
    "        self.set_valor(int(input('Digite o valor de x')))\n",
    "\n",
    "    def imprimir(self):\n",
    "        print(\"Valor de X \"+str(self.get_valor()))\n",
    "\n",
    "teste = Teste()\n",
    "\n",
    "teste.preencher()\n",
    "teste.imprimir()"
   ]
  }
 ],
 "metadata": {
  "kernelspec": {
   "display_name": "Python 3",
   "language": "python",
   "name": "python3"
  },
  "language_info": {
   "codemirror_mode": {
    "name": "ipython",
    "version": 3
   },
   "file_extension": ".py",
   "mimetype": "text/x-python",
   "name": "python",
   "nbconvert_exporter": "python",
   "pygments_lexer": "ipython3",
   "version": "3.11.5"
  }
 },
 "nbformat": 4,
 "nbformat_minor": 2
}
